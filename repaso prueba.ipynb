{
  "nbformat": 4,
  "nbformat_minor": 0,
  "metadata": {
    "colab": {
      "provenance": [],
      "authorship_tag": "ABX9TyPrm3tURw5FDWK7dTtwKGPk",
      "include_colab_link": true
    },
    "kernelspec": {
      "name": "python3",
      "display_name": "Python 3"
    },
    "language_info": {
      "name": "python"
    }
  },
  "cells": [
    {
      "cell_type": "markdown",
      "metadata": {
        "id": "view-in-github",
        "colab_type": "text"
      },
      "source": [
        "<a href=\"https://colab.research.google.com/github/rodr1ggoql17/Listas-enlazadas-C-/blob/main/repaso%20prueba.ipynb\" target=\"_parent\"><img src=\"https://colab.research.google.com/assets/colab-badge.svg\" alt=\"Open In Colab\"/></a>"
      ]
    },
    {
      "cell_type": "code",
      "source": [
        "import numpy as np\n",
        "import matplotlib.pylab as plt"
      ],
      "metadata": {
        "id": "CyuloKok-h39"
      },
      "execution_count": 1,
      "outputs": []
    },
    {
      "cell_type": "code",
      "source": [
        "K = 256e3 # kbps segun el problema\n",
        "N = 1000 # cantidad de segmentos\n",
        "M = 100  # cantidad de usuarios o peers\n",
        "B = 1000e6*np.random.rand(M) # ancho de banda\n",
        "MD = np.random.randint(0,2,(M,N))\n",
        "\n",
        "sol = np.random.randint(1,M+1,N)"
      ],
      "metadata": {
        "id": "UnlO4T7m-orf"
      },
      "execution_count": 2,
      "outputs": []
    },
    {
      "cell_type": "code",
      "source": [
        "# arr = np.random.rand(1,10) # numeros aleatorios entre 0 y 1\n",
        "# arr1 = np.random.randn(1,10) # distribucion gaussiana con media 0 y varianza 1\n",
        "# arr2 = np.random.randint(1,5,10) # diez numeros aleatorios entre 1 y 4"
      ],
      "metadata": {
        "id": "Lw5TW51X_ZSY"
      },
      "execution_count": 3,
      "outputs": []
    },
    {
      "cell_type": "code",
      "execution_count": 4,
      "metadata": {
        "id": "P9BB1ne06e1z"
      },
      "outputs": [],
      "source": [
        "def fitness(sol): # donde MD es la matriz de distribucion, K tamaño del archivo y B ancho de banda\n",
        "  m,n = MD.shape\n",
        "  count = np.zeros(m)\n",
        "  for i in range(m):\n",
        "    count[i] = np.sum(sol == (i+1))\n",
        "  t_max = np.max(count*K/B)\n",
        "  T =n*K/np.sum(B)\n",
        "  return np.abs(t_max - T)\n",
        "\n",
        "def fitness2(sol):\n",
        "  w = [10,10,10,10,10,-5,-4,-3,-2,-1]\n",
        "  acum = 0\n",
        "  for i in range(10):\n",
        "    acum = acum + sol[i]*w[i]\n",
        "  return 1/acum"
      ]
    },
    {
      "cell_type": "code",
      "source": [],
      "metadata": {
        "id": "4f2Iyd_9cZ66"
      },
      "execution_count": null,
      "outputs": []
    },
    {
      "cell_type": "code",
      "source": [
        "# algoritmos geneticos\n",
        "!pip install geneticalgorithm"
      ],
      "metadata": {
        "colab": {
          "base_uri": "https://localhost:8080/"
        },
        "id": "t4N_NfbnKoxX",
        "outputId": "743fa37c-8ab3-4afd-fa38-67bd43688d41"
      },
      "execution_count": 5,
      "outputs": [
        {
          "output_type": "stream",
          "name": "stdout",
          "text": [
            "Looking in indexes: https://pypi.org/simple, https://us-python.pkg.dev/colab-wheels/public/simple/\n",
            "Requirement already satisfied: geneticalgorithm in /usr/local/lib/python3.7/dist-packages (1.0.2)\n",
            "Requirement already satisfied: numpy in /usr/local/lib/python3.7/dist-packages (from geneticalgorithm) (1.21.6)\n",
            "Requirement already satisfied: func-timeout in /usr/local/lib/python3.7/dist-packages (from geneticalgorithm) (4.3.5)\n"
          ]
        }
      ]
    },
    {
      "cell_type": "code",
      "source": [
        "from geneticalgorithm import geneticalgorithm as ga"
      ],
      "metadata": {
        "id": "gIpS6tgZK03v"
      },
      "execution_count": 6,
      "outputs": []
    },
    {
      "cell_type": "code",
      "source": [
        "model= ga(function=fitness, \n",
        "          dimension = N, \n",
        "          variable_type='int', \n",
        "          variable_boundaries = np.array([[1,M]]*N))"
      ],
      "metadata": {
        "id": "3TauKBTlL4FD"
      },
      "execution_count": 7,
      "outputs": []
    },
    {
      "cell_type": "code",
      "source": [
        "model.param['crossover_probability'] = 500\n",
        "model.param['population_size'] = 50\n",
        "model.run()"
      ],
      "metadata": {
        "id": "R3A3lIOXOoM7",
        "colab": {
          "base_uri": "https://localhost:8080/"
        },
        "outputId": "b83e3d2a-514a-430a-b12a-202f1e4c3e57"
      },
      "execution_count": null,
      "outputs": [
        {
          "output_type": "stream",
          "name": "stdout",
          "text": [
            "|||||_____________________________________________ 10.9% GA is running..."
          ]
        }
      ]
    }
  ]
}